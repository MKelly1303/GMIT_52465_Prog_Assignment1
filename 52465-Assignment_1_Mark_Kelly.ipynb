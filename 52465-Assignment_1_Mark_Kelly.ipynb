{
 "cells": [
  {
   "cell_type": "markdown",
   "metadata": {},
   "source": [
    "# 52465 Programming for Data Analysis - Assignment 1\n",
    "## Mark Kelly\n",
    "\n",
    "\n",
    "### Problem Statement\n",
    "The following assignment concerns the numpy.random package in Python. You are\n",
    "required to create a Jupyter notebook explaining the use of the package, including\n",
    "detailed explanations of at least five of the distributions provided for in the package.\n",
    "There are four distinct tasks to be carried out in your Jupyter notebook."
   ]
  },
  {
   "cell_type": "markdown",
   "metadata": {},
   "source": [
    "## 1. Explain the overall purpose of the package."
   ]
  },
  {
   "cell_type": "markdown",
   "metadata": {},
   "source": [
    "The basic purpose of the numpy.random package is for the generation of random numbers within Python. \n",
    "It is broken up into 4 main area\n",
    "- Simple Random Data\n",
    "- Permutations\n",
    "- Distibutions\n",
    "- Random Generators\n",
    "\n",
    "The numpy.random package is similar to the python random package but allows more functionality like building whole arrays and extra probability density functions. This information can then be used when testing, simulating or running some operation or calculation."
   ]
  },
  {
   "cell_type": "markdown",
   "metadata": {},
   "source": [
    "## 2. Explain the use of the “Simple random data” and “Permutations” functions.\n"
   ]
  },
  {
   "cell_type": "markdown",
   "metadata": {},
   "source": [
    "### Simple random data\n",
    "The Simple Random Data function is used to create a randomly generated numbers as defined by the user. This can be in the form of arrays or just a set of numbers."
   ]
  },
  {
   "cell_type": "code",
   "execution_count": 2,
   "metadata": {
    "collapsed": true
   },
   "outputs": [],
   "source": [
    "import numpy as np\n",
    "import matplotlib.pyplot as plt\n",
    "%matplotlib inline"
   ]
  },
  {
   "cell_type": "markdown",
   "metadata": {},
   "source": [
    "In the example below, a randomly generated 4x2 array is shown where each value will be below 1."
   ]
  },
  {
   "cell_type": "code",
   "execution_count": 3,
   "metadata": {},
   "outputs": [
    {
     "data": {
      "text/plain": [
       "array([[ 0.48545853,  0.03978398],\n",
       "       [ 0.23862018,  0.07321934],\n",
       "       [ 0.77447394,  0.67997864],\n",
       "       [ 0.56308307,  0.87330409]])"
      ]
     },
     "execution_count": 3,
     "metadata": {},
     "output_type": "execute_result"
    }
   ],
   "source": [
    "np.random.rand(4, 2)\n"
   ]
  },
  {
   "cell_type": "markdown",
   "metadata": {},
   "source": [
    "Integers can also be generated. The example below is selecting 10 integers between 0 (inclusive) and 100 (exclusive)."
   ]
  },
  {
   "cell_type": "code",
   "execution_count": 4,
   "metadata": {},
   "outputs": [
    {
     "data": {
      "text/plain": [
       "array([84, 96, 39, 73, 84, 26, 96, 97,  4, 53])"
      ]
     },
     "execution_count": 4,
     "metadata": {},
     "output_type": "execute_result"
    }
   ],
   "source": [
    "np.random.randint(0, 100, 10)"
   ]
  },
  {
   "cell_type": "markdown",
   "metadata": {},
   "source": [
    "Different distribution patterns are used depending on the function called. Eg random.rand returns a uniform distribution (default over 0 to 1), while random.randn returns a Gaussian or normal distibution."
   ]
  },
  {
   "cell_type": "code",
   "execution_count": 5,
   "metadata": {},
   "outputs": [
    {
     "data": {
      "image/png": "[encoded data removed]",
      "text/plain": [
       "<matplotlib.figure.Figure at 0x201b17545f8>"
      ]
     },
     "metadata": {},
     "output_type": "display_data"
    }
   ],
   "source": [
    "rndn = np.random.randn(10000)\n",
    "rnd = np.random.rand(10000)\n",
    "\n",
    "\n",
    "bins = np.linspace(-4, 4, 100)\n",
    "\n",
    "plt.hist(rndn, bins, alpha=0.5, label='randn (Gaussian)')\n",
    "plt.hist(rnd, bins, alpha=0.5, label='rand (Uniform)')\n",
    "plt.legend(loc='right')\n",
    "plt.show()"
   ]
  },
  {
   "cell_type": "markdown",
   "metadata": {},
   "source": [
    "Other functions:\n",
    "- sample (returns a random floating number within the range 0 to 1)\n",
    "- choice (returns a random sample from the inputted array. probabilities can be added to each entry in array)\n",
    "- bytes (returns a defined number of random bytes)"
   ]
  },
  {
   "cell_type": "markdown",
   "metadata": {},
   "source": [
    "### Permutations"
   ]
  },
  {
   "cell_type": "markdown",
   "metadata": {},
   "source": [
    "There are 2 permutations functions\n",
    "- shuffle\n",
    "- permuation"
   ]
  },
  {
   "cell_type": "markdown",
   "metadata": {},
   "source": [
    "Both shuffle and permuation alter the sequence of an array. However the main difference between the two is that permuation will make a copy of the array and shuffle the elements randomly. However shuffle alters the contents of the array.\n",
    "This can be seen in the example below."
   ]
  },
  {
   "cell_type": "code",
   "execution_count": 6,
   "metadata": {},
   "outputs": [
    {
     "data": {
      "text/plain": [
       "array([ 0,  1,  2,  3,  4,  5,  6,  7,  8,  9, 10, 11, 12, 13, 14, 15, 16,\n",
       "       17, 18, 19, 20, 21, 22, 23, 24, 25, 26, 27, 28, 29, 30, 31, 32, 33,\n",
       "       34, 35, 36, 37, 38, 39, 40, 41, 42, 43, 44, 45, 46, 47, 48, 49, 50,\n",
       "       51, 52, 53, 54, 55, 56, 57, 58, 59, 60, 61, 62, 63, 64, 65, 66, 67,\n",
       "       68, 69, 70, 71, 72, 73, 74, 75, 76, 77, 78, 79, 80, 81, 82, 83, 84,\n",
       "       85, 86, 87, 88, 89, 90, 91, 92, 93, 94, 95, 96, 97, 98, 99])"
      ]
     },
     "execution_count": 6,
     "metadata": {},
     "output_type": "execute_result"
    }
   ],
   "source": [
    "arr = np.arange(100)\n",
    "# Defining an array called 'arr' with values from 0 to 99 inclusive.\n",
    "arr"
   ]
  },
  {
   "cell_type": "code",
   "execution_count": 7,
   "metadata": {},
   "outputs": [
    {
     "data": {
      "text/plain": [
       "array([95, 40, 42, 52, 97,  1, 30, 27, 21, 15, 53, 13, 44, 38, 48, 86, 35,\n",
       "       83, 14, 73,  7, 25,  5,  9, 94, 45, 68, 29, 51, 26,  4, 63, 36, 12,\n",
       "       33, 59, 24, 17, 57, 10, 92, 56, 80, 71, 39, 19, 60,  6,  0, 58, 50,\n",
       "       93, 61, 88, 79, 77,  8, 20, 31, 99, 62, 75, 66, 90, 98,  3,  2, 91,\n",
       "       54, 81, 70, 84, 41, 85, 87, 55, 28, 67, 23, 16, 18, 37, 49, 32, 72,\n",
       "       65, 74, 64, 46, 82, 78, 69, 89, 22, 11, 76, 43, 96, 47, 34])"
      ]
     },
     "execution_count": 7,
     "metadata": {},
     "output_type": "execute_result"
    }
   ],
   "source": [
    "np.random.permutation(arr)\n",
    "# running the permutation function on the arrary shuffles the contents and outputs the values."
   ]
  },
  {
   "cell_type": "code",
   "execution_count": 8,
   "metadata": {},
   "outputs": [
    {
     "data": {
      "text/plain": [
       "array([ 0,  1,  2,  3,  4,  5,  6,  7,  8,  9, 10, 11, 12, 13, 14, 15, 16,\n",
       "       17, 18, 19, 20, 21, 22, 23, 24, 25, 26, 27, 28, 29, 30, 31, 32, 33,\n",
       "       34, 35, 36, 37, 38, 39, 40, 41, 42, 43, 44, 45, 46, 47, 48, 49, 50,\n",
       "       51, 52, 53, 54, 55, 56, 57, 58, 59, 60, 61, 62, 63, 64, 65, 66, 67,\n",
       "       68, 69, 70, 71, 72, 73, 74, 75, 76, 77, 78, 79, 80, 81, 82, 83, 84,\n",
       "       85, 86, 87, 88, 89, 90, 91, 92, 93, 94, 95, 96, 97, 98, 99])"
      ]
     },
     "execution_count": 8,
     "metadata": {},
     "output_type": "execute_result"
    }
   ],
   "source": [
    "arr\n",
    "# However the orginal array contents are left in their original sequence."
   ]
  },
  {
   "cell_type": "code",
   "execution_count": 9,
   "metadata": {},
   "outputs": [
    {
     "data": {
      "text/plain": [
       "array([54, 62, 22, 12, 28, 49, 57, 56, 23, 47, 48,  6, 86, 32, 40, 82, 90,\n",
       "       35, 89, 19, 77,  1, 31, 26, 45, 74, 51,  5, 24, 15, 33, 53,  2, 36,\n",
       "       87, 41, 30, 83, 60, 37, 18, 38, 58, 42, 52,  0, 17, 76, 94, 21,  9,\n",
       "       95, 68, 79, 78, 69, 13, 64, 84, 72, 43, 34, 39,  8, 25, 81, 91, 92,\n",
       "       16, 14,  7, 59, 88, 70, 29, 63,  4, 93, 99, 85, 61, 20, 96, 11,  3,\n",
       "       71, 73, 75, 65, 97, 46, 98, 27, 66, 50, 10, 44, 80, 67, 55])"
      ]
     },
     "execution_count": 9,
     "metadata": {},
     "output_type": "execute_result"
    }
   ],
   "source": [
    "np.random.shuffle(arr)\n",
    "arr"
   ]
  },
  {
   "cell_type": "markdown",
   "metadata": {},
   "source": [
    "The array has now had the sequence of its content altered. "
   ]
  },
  {
   "cell_type": "markdown",
   "metadata": {},
   "source": [
    "## 3. Explain the use and purpose of at least five “Distributions” functions.\n",
    "\n",
    "A probability distribution is a functions in mathematics that can provide the probability of occurence of different outcomes. Within the numpy package there are 35 different distributions that can be called."
   ]
  },
  {
   "cell_type": "markdown",
   "metadata": {},
   "source": [
    "### Gaussian or Normal Distribution\n",
    "\n",
    "This is probably one of the most important distributions. "
   ]
  },
  {
   "cell_type": "code",
   "execution_count": 10,
   "metadata": {},
   "outputs": [
    {
     "data": {
      "text/plain": [
       "(array([    8.,   126.,   556.,  1685.,  2737.,  2706.,  1571.,   489.,\n",
       "          106.,    16.]),\n",
       " array([-3.69329471, -2.9436154 , -2.19393608, -1.44425677, -0.69457745,\n",
       "         0.05510186,  0.80478118,  1.55446049,  2.3041398 ,  3.05381912,\n",
       "         3.80349843]),\n",
       " <a list of 10 Patch objects>)"
      ]
     },
     "execution_count": 10,
     "metadata": {},
     "output_type": "execute_result"
    },
    {
     "data": {
      "image/png": "[encoded data removed]",
      "text/plain": [
       "<matplotlib.figure.Figure at 0x201b0675a90>"
      ]
     },
     "metadata": {},
     "output_type": "display_data"
    }
   ],
   "source": [
    "n = np.random.normal(0,1,10000)\n",
    "plt.hist(n)"
   ]
  },
  {
   "cell_type": "code",
   "execution_count": 11,
   "metadata": {
    "collapsed": true
   },
   "outputs": [],
   "source": [
    "ln = np.random.lognormal(5,2,1000)"
   ]
  },
  {
   "cell_type": "code",
   "execution_count": 12,
   "metadata": {},
   "outputs": [
    {
     "data": {
      "text/plain": [
       "(array([ 694.,  121.,   46.,   33.,   19.,   12.,   12.,    5.,    8.,\n",
       "           3.,    1.,    6.,    3.,    4.,    2.,    1.,    3.,    0.,\n",
       "           4.,    2.,    1.,    1.,    1.,    1.,    0.,    1.,    1.,\n",
       "           0.,    0.,    3.,    1.,    1.,    0.,    0.,    0.,    0.,\n",
       "           0.,    1.,    1.,    0.,    1.,    0.,    0.,    1.,    0.,\n",
       "           0.,    1.,    0.,    0.,    0.,    0.,    0.,    0.,    0.,\n",
       "           0.,    0.,    1.,    0.,    0.,    0.,    0.,    0.,    0.,\n",
       "           0.,    0.,    0.,    0.,    0.,    0.,    0.,    1.,    0.,\n",
       "           0.,    0.,    0.,    0.,    0.,    0.,    0.,    0.,    1.,\n",
       "           1.,    0.,    0.,    0.,    0.,    0.,    0.,    0.,    0.,\n",
       "           0.,    0.,    0.,    0.,    0.,    0.,    0.,    0.,    0.,    1.]),\n",
       " array([  1.49917770e-01,   4.35674354e+02,   8.71198790e+02,\n",
       "          1.30672323e+03,   1.74224766e+03,   2.17777210e+03,\n",
       "          2.61329653e+03,   3.04882097e+03,   3.48434541e+03,\n",
       "          3.91986984e+03,   4.35539428e+03,   4.79091871e+03,\n",
       "          5.22644315e+03,   5.66196759e+03,   6.09749202e+03,\n",
       "          6.53301646e+03,   6.96854089e+03,   7.40406533e+03,\n",
       "          7.83958977e+03,   8.27511420e+03,   8.71063864e+03,\n",
       "          9.14616307e+03,   9.58168751e+03,   1.00172119e+04,\n",
       "          1.04527364e+04,   1.08882608e+04,   1.13237853e+04,\n",
       "          1.17593097e+04,   1.21948341e+04,   1.26303586e+04,\n",
       "          1.30658830e+04,   1.35014074e+04,   1.39369319e+04,\n",
       "          1.43724563e+04,   1.48079807e+04,   1.52435052e+04,\n",
       "          1.56790296e+04,   1.61145540e+04,   1.65500785e+04,\n",
       "          1.69856029e+04,   1.74211274e+04,   1.78566518e+04,\n",
       "          1.82921762e+04,   1.87277007e+04,   1.91632251e+04,\n",
       "          1.95987495e+04,   2.00342740e+04,   2.04697984e+04,\n",
       "          2.09053228e+04,   2.13408473e+04,   2.17763717e+04,\n",
       "          2.22118962e+04,   2.26474206e+04,   2.30829450e+04,\n",
       "          2.35184695e+04,   2.39539939e+04,   2.43895183e+04,\n",
       "          2.48250428e+04,   2.52605672e+04,   2.56960916e+04,\n",
       "          2.61316161e+04,   2.65671405e+04,   2.70026649e+04,\n",
       "          2.74381894e+04,   2.78737138e+04,   2.83092383e+04,\n",
       "          2.87447627e+04,   2.91802871e+04,   2.96158116e+04,\n",
       "          3.00513360e+04,   3.04868604e+04,   3.09223849e+04,\n",
       "          3.13579093e+04,   3.17934337e+04,   3.22289582e+04,\n",
       "          3.26644826e+04,   3.31000071e+04,   3.35355315e+04,\n",
       "          3.39710559e+04,   3.44065804e+04,   3.48421048e+04,\n",
       "          3.52776292e+04,   3.57131537e+04,   3.61486781e+04,\n",
       "          3.65842025e+04,   3.70197270e+04,   3.74552514e+04,\n",
       "          3.78907758e+04,   3.83263003e+04,   3.87618247e+04,\n",
       "          3.91973492e+04,   3.96328736e+04,   4.00683980e+04,\n",
       "          4.05039225e+04,   4.09394469e+04,   4.13749713e+04,\n",
       "          4.18104958e+04,   4.22460202e+04,   4.26815446e+04,\n",
       "          4.31170691e+04,   4.35525935e+04]),\n",
       " <a list of 100 Patch objects>)"
      ]
     },
     "execution_count": 12,
     "metadata": {},
     "output_type": "execute_result"
    },
    {
     "data": {
      "image/png": "[encoded data removed]",
      "text/plain": [
       "<matplotlib.figure.Figure at 0x201b172bda0>"
      ]
     },
     "metadata": {},
     "output_type": "display_data"
    }
   ],
   "source": [
    "plt.hist(ln, 100)"
   ]
  },
  {
   "cell_type": "code",
   "execution_count": 13,
   "metadata": {},
   "outputs": [
    {
     "data": {
      "text/plain": [
       "(array([ 0.,  0.,  0.,  0.,  0.,  1.,  0.,  0.,  0.,  0.]),\n",
       " array([ 1.47407211,  1.57407211,  1.67407211,  1.77407211,  1.87407211,\n",
       "         1.97407211,  2.07407211,  2.17407211,  2.27407211,  2.37407211,\n",
       "         2.47407211]),\n",
       " <a list of 10 Patch objects>)"
      ]
     },
     "execution_count": 13,
     "metadata": {},
     "output_type": "execute_result"
    },
    {
     "data": {
      "image/png": "[encoded data removed]",
      "text/plain": [
       "<matplotlib.figure.Figure at 0x201b20b8c18>"
      ]
     },
     "metadata": {},
     "output_type": "display_data"
    }
   ],
   "source": [
    "ex = np.random.exponential(1)\n",
    "plt.hist(ex)"
   ]
  },
  {
   "cell_type": "code",
   "execution_count": 14,
   "metadata": {},
   "outputs": [
    {
     "data": {
      "text/plain": [
       "(array([  2.70000000e+01,   2.58000000e+02,   9.65000000e+02,\n",
       "          2.07900000e+03,   2.57000000e+03,   2.05600000e+03,\n",
       "          1.22000000e+03,   5.65000000e+02,   1.80000000e+02,\n",
       "          6.40000000e+01,   1.50000000e+01,   1.00000000e+00]),\n",
       " array([  1.        ,   2.91666667,   4.83333333,   6.75      ,\n",
       "          8.66666667,  10.58333333,  12.5       ,  14.41666667,\n",
       "         16.33333333,  18.25      ,  20.16666667,  22.08333333,  24.        ]),\n",
       " <a list of 12 Patch objects>)"
      ]
     },
     "execution_count": 14,
     "metadata": {},
     "output_type": "execute_result"
    },
    {
     "data": {
      "image/png": "[encoded data removed]",
      "text/plain": [
       "<matplotlib.figure.Figure at 0x201b1cf5c88>"
      ]
     },
     "metadata": {},
     "output_type": "display_data"
    }
   ],
   "source": [
    "ps = np.random.poisson(10, 10000)\n",
    "plt.hist(ps, 12)"
   ]
  },
  {
   "cell_type": "code",
   "execution_count": 15,
   "metadata": {},
   "outputs": [
    {
     "data": {
      "text/plain": [
       "(array([   3.,   19.,   39.,   95.,  128.,  134.,  138.,  125.,   85.,\n",
       "          66.,   51.,   38.,   13.,   15.,   17.,   16.,    5.,    4.,\n",
       "           1.,    1.,    1.,    2.,    2.,    0.,    0.,    1.,    0.,\n",
       "           0.,    0.,    1.]),\n",
       " array([-0.20969833, -0.17180011, -0.13390189, -0.09600366, -0.05810544,\n",
       "        -0.02020722,  0.017691  ,  0.05558922,  0.09348744,  0.13138566,\n",
       "         0.16928388,  0.2071821 ,  0.24508032,  0.28297854,  0.32087676,\n",
       "         0.35877498,  0.3966732 ,  0.43457142,  0.47246964,  0.51036786,\n",
       "         0.54826609,  0.58616431,  0.62406253,  0.66196075,  0.69985897,\n",
       "         0.73775719,  0.77565541,  0.81355363,  0.85145185,  0.88935007,\n",
       "         0.92724829]),\n",
       " <a list of 30 Patch objects>)"
      ]
     },
     "execution_count": 15,
     "metadata": {},
     "output_type": "execute_result"
    },
    {
     "data": {
      "image/png": "[encoded data removed]",
      "text/plain": [
       "<matplotlib.figure.Figure at 0x201b1ffa550>"
      ]
     },
     "metadata": {},
     "output_type": "display_data"
    }
   ],
   "source": [
    "gm = np.random.gumbel(0, 0.1, 1000)\n",
    "plt.hist(gm, 30)"
   ]
  },
  {
   "cell_type": "markdown",
   "metadata": {},
   "source": [
    "## 4. Explain the use of seeds in generating pseudorandom numbers."
   ]
  },
  {
   "cell_type": "code",
   "execution_count": null,
   "metadata": {
    "collapsed": true
   },
   "outputs": [],
   "source": []
  }
 ],
 "metadata": {
  "kernelspec": {
   "display_name": "Python 3",
   "language": "python",
   "name": "python3"
  },
  "language_info": {
   "codemirror_mode": {
    "name": "ipython",
    "version": 3
   },
   "file_extension": ".py",
   "mimetype": "text/x-python",
   "name": "python",
   "nbconvert_exporter": "python",
   "pygments_lexer": "ipython3",
   "version": "3.6.3"
  }
 },
 "nbformat": 4,
 "nbformat_minor": 2
}
