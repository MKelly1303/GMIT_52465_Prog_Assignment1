{
 "cells": [
  {
   "cell_type": "markdown",
   "metadata": {},
   "source": [
    "# 52465 Programming for Data Analysis - Assignment 1\n",
    "## Mark Kelly\n",
    "\n",
    "\n",
    "### Problem Statement\n",
    "The following assignment concerns the numpy.random package in Python. You are\n",
    "required to create a Jupyter notebook explaining the use of the package, including\n",
    "detailed explanations of at least five of the distributions provided for in the package.\n",
    "There are four distinct tasks to be carried out in your Jupyter notebook."
   ]
  },
  {
   "cell_type": "markdown",
   "metadata": {},
   "source": [
    "## 1. Explain the overall purpose of the package."
   ]
  },
  {
   "cell_type": "markdown",
   "metadata": {},
   "source": [
    "The basic purpose of the numpy.random package is for the generation of random numbers within Python. \n",
    "It is broken up into 4 main area\n",
    "- Simple Random Data\n",
    "- Permutations\n",
    "- Distibutions\n",
    "- Random Generators\n",
    "\n",
    "The numpy.random package is similar to the python random package but allows more functionality like building whole arrays and extra probability density functions. This information can then be used when testing, simulating or running some operation or calculation."
   ]
  },
  {
   "cell_type": "markdown",
   "metadata": {},
   "source": [
    "## 2. Explain the use of the “Simple random data” and “Permutations” functions.\n"
   ]
  },
  {
   "cell_type": "markdown",
   "metadata": {},
   "source": [
    "### Simple random data\n",
    "The Simple Random Data function is used to create a randomly generated numbers as defined by the user. This can be in the form of arrays or just a set of numbers."
   ]
  },
  {
   "cell_type": "code",
   "execution_count": 2,
   "metadata": {
    "collapsed": true
   },
   "outputs": [],
   "source": [
    "import numpy as np\n",
    "import matplotlib.pyplot as plt\n",
    "%matplotlib inline"
   ]
  },
  {
   "cell_type": "markdown",
   "metadata": {},
   "source": [
    "In the example below, a randomly generated 4x2 array is shown where each value will be below 1."
   ]
  },
  {
   "cell_type": "code",
   "execution_count": 3,
   "metadata": {},
   "outputs": [
    {
     "data": {
      "text/plain": [
       "array([[ 0.52223728,  0.10612279],\n",
       "       [ 0.90470539,  0.91799472],\n",
       "       [ 0.98276174,  0.89494903],\n",
       "       [ 0.85433177,  0.63916606]])"
      ]
     },
     "execution_count": 3,
     "metadata": {},
     "output_type": "execute_result"
    }
   ],
   "source": [
    "np.random.rand(4, 2)\n"
   ]
  },
  {
   "cell_type": "markdown",
   "metadata": {},
   "source": [
    "Integers can also be generated. The example below is selecting 10 integers between 0 (inclusive) and 100 (exclusive)."
   ]
  },
  {
   "cell_type": "code",
   "execution_count": 4,
   "metadata": {},
   "outputs": [
    {
     "data": {
      "text/plain": [
       "array([71, 77, 95, 11, 96, 51, 14, 84, 62, 92])"
      ]
     },
     "execution_count": 4,
     "metadata": {},
     "output_type": "execute_result"
    }
   ],
   "source": [
    "np.random.randint(0, 100, 10)"
   ]
  },
  {
   "cell_type": "markdown",
   "metadata": {},
   "source": [
    "Different distribution patterns are used depending on the function called. Eg random.rand returns a uniform distribution (default over 0 to 1), while random.randn returns a Gaussian or normal distibution."
   ]
  },
  {
   "cell_type": "code",
   "execution_count": 67,
   "metadata": {},
   "outputs": [
    {
     "data": {
      "image/png": "[encoded data removed]",
      "text/plain": [
       "<matplotlib.figure.Figure at 0x197b65c8160>"
      ]
     },
     "metadata": {},
     "output_type": "display_data"
    }
   ],
   "source": [
    "rndn = np.random.randn(10000)\n",
    "rnd = np.random.rand(10000)\n",
    "\n",
    "\n",
    "bins = np.linspace(-4, 4, 100)\n",
    "\n",
    "plt.hist(rndn, bins, alpha=0.5, label='randn (Gaussian)')\n",
    "plt.hist(rnd, bins, alpha=0.5, label='rand (Uniform)')\n",
    "plt.legend(loc='right')\n",
    "plt.show()"
   ]
  },
  {
   "cell_type": "markdown",
   "metadata": {},
   "source": [
    "Other functions:\n",
    "- sample (returns a random floating number within the range 0 to 1)\n",
    "- choice (returns a random sample from the inputted array. probabilities can be added to each entry in array)\n",
    "- bytes (returns a defined number of random bytes)"
   ]
  },
  {
   "cell_type": "markdown",
   "metadata": {},
   "source": [
    "### Permutations"
   ]
  },
  {
   "cell_type": "markdown",
   "metadata": {},
   "source": [
    "There are 2 permutations functions\n",
    "- shuffle\n",
    "- permuation"
   ]
  },
  {
   "cell_type": "markdown",
   "metadata": {},
   "source": [
    "Both shuffle and permuation alter the sequence of an array. However the main difference between the two is that permuation will make a copy of the array and shuffle the elements randomly. However shuffle alters the contents of the array.\n",
    "This can be seen in the example below."
   ]
  },
  {
   "cell_type": "code",
   "execution_count": 115,
   "metadata": {},
   "outputs": [
    {
     "data": {
      "text/plain": [
       "array([ 0,  1,  2,  3,  4,  5,  6,  7,  8,  9, 10, 11, 12, 13, 14, 15, 16,\n",
       "       17, 18, 19, 20, 21, 22, 23, 24, 25, 26, 27, 28, 29, 30, 31, 32, 33,\n",
       "       34, 35, 36, 37, 38, 39, 40, 41, 42, 43, 44, 45, 46, 47, 48, 49, 50,\n",
       "       51, 52, 53, 54, 55, 56, 57, 58, 59, 60, 61, 62, 63, 64, 65, 66, 67,\n",
       "       68, 69, 70, 71, 72, 73, 74, 75, 76, 77, 78, 79, 80, 81, 82, 83, 84,\n",
       "       85, 86, 87, 88, 89, 90, 91, 92, 93, 94, 95, 96, 97, 98, 99])"
      ]
     },
     "execution_count": 115,
     "metadata": {},
     "output_type": "execute_result"
    }
   ],
   "source": [
    "arr = np.arange(100)\n",
    "# Defining an array called 'arr' with values from 0 to 99 inclusive.\n",
    "arr"
   ]
  },
  {
   "cell_type": "code",
   "execution_count": 120,
   "metadata": {},
   "outputs": [
    {
     "data": {
      "text/plain": [
       "array([25, 57, 54, 99, 12, 80, 45, 17, 66, 27, 64, 10, 87,  3, 28, 38, 39,\n",
       "       98, 68, 84, 75, 29, 43, 70, 62, 97, 40, 44, 81, 85, 56, 22,  1,  8,\n",
       "       63, 15, 58, 90, 83, 96, 53, 91, 42, 13, 50,  0, 79, 36, 21, 31, 16,\n",
       "       37, 71, 78, 52, 86, 74,  5, 92, 95, 30, 34, 49, 32, 59, 23, 61, 19,\n",
       "       55, 26,  7, 18, 14,  6, 65,  4, 20, 48,  9, 35, 77, 93, 69, 60, 82,\n",
       "       76, 88, 24, 11, 73, 51, 89, 47,  2, 94, 67, 33, 41, 72, 46])"
      ]
     },
     "execution_count": 120,
     "metadata": {},
     "output_type": "execute_result"
    }
   ],
   "source": [
    "np.random.permutation(arr)\n",
    "# running the permutation function on the arrary shuffles the contents and outputs the values."
   ]
  },
  {
   "cell_type": "code",
   "execution_count": 121,
   "metadata": {},
   "outputs": [
    {
     "data": {
      "text/plain": [
       "array([ 0,  1,  2,  3,  4,  5,  6,  7,  8,  9, 10, 11, 12, 13, 14, 15, 16,\n",
       "       17, 18, 19, 20, 21, 22, 23, 24, 25, 26, 27, 28, 29, 30, 31, 32, 33,\n",
       "       34, 35, 36, 37, 38, 39, 40, 41, 42, 43, 44, 45, 46, 47, 48, 49, 50,\n",
       "       51, 52, 53, 54, 55, 56, 57, 58, 59, 60, 61, 62, 63, 64, 65, 66, 67,\n",
       "       68, 69, 70, 71, 72, 73, 74, 75, 76, 77, 78, 79, 80, 81, 82, 83, 84,\n",
       "       85, 86, 87, 88, 89, 90, 91, 92, 93, 94, 95, 96, 97, 98, 99])"
      ]
     },
     "execution_count": 121,
     "metadata": {},
     "output_type": "execute_result"
    }
   ],
   "source": [
    "arr\n",
    "# However the orginal array contents are left in their original sequence."
   ]
  },
  {
   "cell_type": "code",
   "execution_count": 124,
   "metadata": {},
   "outputs": [
    {
     "data": {
      "text/plain": [
       "array([39, 52, 21, 69, 42, 16, 33, 94, 61, 10, 36,  8, 97, 95, 67, 58, 43,\n",
       "       70, 57, 30,  1, 73, 92, 29, 75, 12, 91, 25, 35, 87, 89,  4, 31, 64,\n",
       "       60, 44, 32,  2, 34,  5, 77, 47, 96, 83, 26,  0, 74, 85,  6, 28, 49,\n",
       "       79, 14, 86, 78, 45, 27,  9, 15, 18, 55, 66, 72, 40, 48, 56, 50, 22,\n",
       "       20, 37, 11, 46, 53, 88, 63, 68, 62, 99, 51, 98, 54, 90, 81, 17, 80,\n",
       "       71,  3, 76, 19, 13,  7, 65, 82, 38, 23, 84, 93, 24, 41, 59])"
      ]
     },
     "execution_count": 124,
     "metadata": {},
     "output_type": "execute_result"
    }
   ],
   "source": [
    "np.random.shuffle(arr)\n",
    "arr"
   ]
  },
  {
   "cell_type": "markdown",
   "metadata": {},
   "source": [
    "The array has now had the sequence of its content altered. "
   ]
  },
  {
   "cell_type": "markdown",
   "metadata": {},
   "source": [
    "## 3. Explain the use and purpose of at least five “Distributions” functions."
   ]
  },
  {
   "cell_type": "code",
   "execution_count": 139,
   "metadata": {},
   "outputs": [
    {
     "data": {
      "text/plain": [
       "(array([   28.,   138.,   653.,  1687.,  2570.,  2648.,  1517.,   604.,\n",
       "          142.,    13.]),\n",
       " array([-35.23762142, -28.14219102, -21.04676062, -13.95133021,\n",
       "         -6.85589981,   0.23953059,   7.334961  ,  14.4303914 ,\n",
       "         21.5258218 ,  28.6212522 ,  35.71668261]),\n",
       " <a list of 10 Patch objects>)"
      ]
     },
     "execution_count": 139,
     "metadata": {},
     "output_type": "execute_result"
    },
    {
     "data": {
      "image/png": "[encoded data removed]",
      "text/plain": [
       "<matplotlib.figure.Figure at 0x197cca7c3c8>"
      ]
     },
     "metadata": {},
     "output_type": "display_data"
    }
   ],
   "source": [
    "n = np.random.normal(0,10,10000)\n",
    "plt.hist(n)"
   ]
  },
  {
   "cell_type": "code",
   "execution_count": 137,
   "metadata": {},
   "outputs": [],
   "source": [
    "ln = np.random.lognormal(5,2,1000)"
   ]
  },
  {
   "cell_type": "code",
   "execution_count": 138,
   "metadata": {},
   "outputs": [
    {
     "data": {
      "text/plain": [
       "(array([ 821.,   67.,   31.,   27.,    6.,   11.,    7.,    4.,    3.,\n",
       "           2.,    1.,    6.,    1.,    1.,    1.,    0.,    0.,    0.,\n",
       "           0.,    0.,    3.,    0.,    1.,    0.,    0.,    0.,    0.,\n",
       "           1.,    1.,    0.,    0.,    0.,    0.,    0.,    0.,    0.,\n",
       "           1.,    0.,    0.,    0.,    0.,    0.,    1.,    0.,    0.,\n",
       "           0.,    1.,    0.,    0.,    0.,    0.,    0.,    0.,    0.,\n",
       "           0.,    0.,    0.,    0.,    0.,    0.,    0.,    0.,    0.,\n",
       "           0.,    0.,    0.,    0.,    0.,    0.,    0.,    1.,    0.,\n",
       "           0.,    0.,    0.,    0.,    0.,    0.,    0.,    0.,    0.,\n",
       "           0.,    0.,    0.,    0.,    0.,    0.,    0.,    0.,    0.,\n",
       "           0.,    0.,    0.,    0.,    0.,    0.,    0.,    0.,    0.,    1.]),\n",
       " array([  2.29397667e-01,   8.89373699e+02,   1.77851800e+03,\n",
       "          2.66766230e+03,   3.55680660e+03,   4.44595091e+03,\n",
       "          5.33509521e+03,   6.22423951e+03,   7.11338381e+03,\n",
       "          8.00252811e+03,   8.89167241e+03,   9.78081672e+03,\n",
       "          1.06699610e+04,   1.15591053e+04,   1.24482496e+04,\n",
       "          1.33373939e+04,   1.42265382e+04,   1.51156825e+04,\n",
       "          1.60048268e+04,   1.68939711e+04,   1.77831154e+04,\n",
       "          1.86722597e+04,   1.95614040e+04,   2.04505483e+04,\n",
       "          2.13396926e+04,   2.22288369e+04,   2.31179812e+04,\n",
       "          2.40071255e+04,   2.48962698e+04,   2.57854141e+04,\n",
       "          2.66745584e+04,   2.75637028e+04,   2.84528471e+04,\n",
       "          2.93419914e+04,   3.02311357e+04,   3.11202800e+04,\n",
       "          3.20094243e+04,   3.28985686e+04,   3.37877129e+04,\n",
       "          3.46768572e+04,   3.55660015e+04,   3.64551458e+04,\n",
       "          3.73442901e+04,   3.82334344e+04,   3.91225787e+04,\n",
       "          4.00117230e+04,   4.09008673e+04,   4.17900116e+04,\n",
       "          4.26791559e+04,   4.35683002e+04,   4.44574445e+04,\n",
       "          4.53465888e+04,   4.62357331e+04,   4.71248774e+04,\n",
       "          4.80140217e+04,   4.89031660e+04,   4.97923103e+04,\n",
       "          5.06814546e+04,   5.15705989e+04,   5.24597432e+04,\n",
       "          5.33488875e+04,   5.42380318e+04,   5.51271761e+04,\n",
       "          5.60163204e+04,   5.69054647e+04,   5.77946090e+04,\n",
       "          5.86837533e+04,   5.95728976e+04,   6.04620419e+04,\n",
       "          6.13511862e+04,   6.22403305e+04,   6.31294748e+04,\n",
       "          6.40186191e+04,   6.49077634e+04,   6.57969077e+04,\n",
       "          6.66860520e+04,   6.75751963e+04,   6.84643406e+04,\n",
       "          6.93534849e+04,   7.02426292e+04,   7.11317735e+04,\n",
       "          7.20209178e+04,   7.29100621e+04,   7.37992064e+04,\n",
       "          7.46883507e+04,   7.55774950e+04,   7.64666393e+04,\n",
       "          7.73557836e+04,   7.82449279e+04,   7.91340723e+04,\n",
       "          8.00232166e+04,   8.09123609e+04,   8.18015052e+04,\n",
       "          8.26906495e+04,   8.35797938e+04,   8.44689381e+04,\n",
       "          8.53580824e+04,   8.62472267e+04,   8.71363710e+04,\n",
       "          8.80255153e+04,   8.89146596e+04]),\n",
       " <a list of 100 Patch objects>)"
      ]
     },
     "execution_count": 138,
     "metadata": {},
     "output_type": "execute_result"
    },
    {
     "data": {
      "image/png": "[encoded data removed]",
      "text/plain": [
       "<matplotlib.figure.Figure at 0x197b6c506a0>"
      ]
     },
     "metadata": {},
     "output_type": "display_data"
    }
   ],
   "source": [
    "plt.hist(ln, 100)"
   ]
  },
  {
   "cell_type": "code",
   "execution_count": 162,
   "metadata": {},
   "outputs": [
    {
     "data": {
      "text/plain": [
       "(array([ 0.,  0.,  0.,  0.,  0.,  1.,  0.,  0.,  0.,  0.]),\n",
       " array([ 0.11725072,  0.21725072,  0.31725072,  0.41725072,  0.51725072,\n",
       "         0.61725072,  0.71725072,  0.81725072,  0.91725072,  1.01725072,\n",
       "         1.11725072]),\n",
       " <a list of 10 Patch objects>)"
      ]
     },
     "execution_count": 162,
     "metadata": {},
     "output_type": "execute_result"
    },
    {
     "data": {
      "image/png": "[encoded data removed]",
      "text/plain": [
       "<matplotlib.figure.Figure at 0x197b6eeccf8>"
      ]
     },
     "metadata": {},
     "output_type": "display_data"
    }
   ],
   "source": [
    "ex = np.random.exponential(1)\n",
    "plt.hist(ex)"
   ]
  },
  {
   "cell_type": "code",
   "execution_count": 156,
   "metadata": {},
   "outputs": [
    {
     "data": {
      "text/plain": [
       "(array([  2.40000000e+01,   2.55000000e+02,   9.91000000e+02,\n",
       "          2.04700000e+03,   2.51800000e+03,   2.06700000e+03,\n",
       "          1.27600000e+03,   5.60000000e+02,   1.93000000e+02,\n",
       "          5.90000000e+01,   8.00000000e+00,   2.00000000e+00]),\n",
       " array([  1.        ,   2.91666667,   4.83333333,   6.75      ,\n",
       "          8.66666667,  10.58333333,  12.5       ,  14.41666667,\n",
       "         16.33333333,  18.25      ,  20.16666667,  22.08333333,  24.        ]),\n",
       " <a list of 12 Patch objects>)"
      ]
     },
     "execution_count": 156,
     "metadata": {},
     "output_type": "execute_result"
    },
    {
     "data": {
      "image/png": "[encoded data removed]",
      "text/plain": [
       "<matplotlib.figure.Figure at 0x197b66acf60>"
      ]
     },
     "metadata": {},
     "output_type": "display_data"
    }
   ],
   "source": [
    "ps = np.random.poisson(10, 10000)\n",
    "plt.hist(ps, 12)"
   ]
  },
  {
   "cell_type": "code",
   "execution_count": 161,
   "metadata": {},
   "outputs": [
    {
     "data": {
      "text/plain": [
       "(array([   1.,    6.,   14.,   40.,   69.,  103.,  123.,  101.,  115.,\n",
       "         102.,   90.,   49.,   54.,   34.,   22.,   19.,   21.,    7.,\n",
       "           5.,    9.,    2.,    4.,    2.,    2.,    0.,    2.,    0.,\n",
       "           1.,    0.,    3.]),\n",
       " array([ -2.23208741e-01,  -1.91305322e-01,  -1.59401902e-01,\n",
       "         -1.27498483e-01,  -9.55950638e-02,  -6.36916444e-02,\n",
       "         -3.17882251e-02,   1.15194295e-04,   3.20186136e-02,\n",
       "          6.39220330e-02,   9.58254524e-02,   1.27728872e-01,\n",
       "          1.59632291e-01,   1.91535710e-01,   2.23439130e-01,\n",
       "          2.55342549e-01,   2.87245968e-01,   3.19149388e-01,\n",
       "          3.51052807e-01,   3.82956227e-01,   4.14859646e-01,\n",
       "          4.46763065e-01,   4.78666485e-01,   5.10569904e-01,\n",
       "          5.42473323e-01,   5.74376743e-01,   6.06280162e-01,\n",
       "          6.38183581e-01,   6.70087001e-01,   7.01990420e-01,\n",
       "          7.33893839e-01]),\n",
       " <a list of 30 Patch objects>)"
      ]
     },
     "execution_count": 161,
     "metadata": {},
     "output_type": "execute_result"
    },
    {
     "data": {
      "image/png": "[encoded data removed]",
      "text/plain": [
       "<matplotlib.figure.Figure at 0x197b6e6d7b8>"
      ]
     },
     "metadata": {},
     "output_type": "display_data"
    }
   ],
   "source": [
    "gm = np.random.gumbel(0, 0.1, 1000)\n",
    "plt.hist(gm, 30)"
   ]
  },
  {
   "cell_type": "markdown",
   "metadata": {},
   "source": [
    "## 4. Explain the use of seeds in generating pseudorandom numbers."
   ]
  },
  {
   "cell_type": "code",
   "execution_count": null,
   "metadata": {
    "collapsed": true
   },
   "outputs": [],
   "source": []
  }
 ],
 "metadata": {
  "kernelspec": {
   "display_name": "Python 3",
   "language": "python",
   "name": "python3"
  },
  "language_info": {
   "codemirror_mode": {
    "name": "ipython",
    "version": 3
   },
   "file_extension": ".py",
   "mimetype": "text/x-python",
   "name": "python",
   "nbconvert_exporter": "python",
   "pygments_lexer": "ipython3",
   "version": "3.6.3"
  }
 },
 "nbformat": 4,
 "nbformat_minor": 2
}
