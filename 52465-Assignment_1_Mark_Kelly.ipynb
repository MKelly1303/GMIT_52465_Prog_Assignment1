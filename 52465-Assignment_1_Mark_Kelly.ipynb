{
 "cells": [
  {
   "cell_type": "markdown",
   "metadata": {},
   "source": [
    "# 52465 Programming for Data Analysis - Assignment 1\n",
    "## Mark Kelly\n",
    "\n",
    "\n",
    "### Problem Statement\n",
    "*The following assignment concerns the numpy.random package in Python. You are\n",
    "required to create a Jupyter notebook explaining the use of the package, including\n",
    "detailed explanations of at least five of the distributions provided for in the package.\n",
    "There are four distinct tasks to be carried out in your Jupyter notebook.*"
   ]
  },
  {
   "cell_type": "markdown",
   "metadata": {},
   "source": [
    "## 1. Explain the overall purpose of the package."
   ]
  },
  {
   "cell_type": "markdown",
   "metadata": {},
   "source": [
    "The primary purpose of the numpy.random package is for the generation of random numbers within Python. \n",
    "It is broken up into 4 main areas:\n",
    "- Simple Random Data\n",
    "- Permutations\n",
    "- Distibutions\n",
    "- Random Generators\n",
    "\n",
    "The numpy.random package is similar to the python random package but allows more functionality like building whole arrays and extra probability density functions. This information can then be used when testing, simulating or running some operation or calculation."
   ]
  },
  {
   "cell_type": "markdown",
   "metadata": {},
   "source": [
    "## 2. Explain the use of the “Simple random data” and “Permutations” functions.\n"
   ]
  },
  {
   "cell_type": "markdown",
   "metadata": {},
   "source": [
    "### Simple random data\n",
    "The Simple Random Data function is used to create a randomly generated numbers as defined by the user. This can be in the form of arrays or just a set of numbers."
   ]
  },
  {
   "cell_type": "code",
   "execution_count": 1,
   "metadata": {
    "collapsed": true
   },
   "outputs": [],
   "source": [
    "import numpy as np\n",
    "import matplotlib.pyplot as plt\n",
    "%matplotlib inline"
   ]
  },
  {
   "cell_type": "markdown",
   "metadata": {},
   "source": [
    "In the example below, a randomly generated 4x2 array is shown where each value will be below 1."
   ]
  },
  {
   "cell_type": "code",
   "execution_count": 2,
   "metadata": {},
   "outputs": [
    {
     "data": {
      "text/plain": [
       "array([[ 0.75149961,  0.59460922],\n",
       "       [ 0.87179606,  0.61303973],\n",
       "       [ 0.09718707,  0.5075711 ],\n",
       "       [ 0.06129942,  0.84921069]])"
      ]
     },
     "execution_count": 2,
     "metadata": {},
     "output_type": "execute_result"
    }
   ],
   "source": [
    "np.random.rand(4, 2)\n"
   ]
  },
  {
   "cell_type": "markdown",
   "metadata": {},
   "source": [
    "Integers can also be generated. The example below is selecting 10 integers between 0 (inclusive) and 100 (exclusive)."
   ]
  },
  {
   "cell_type": "code",
   "execution_count": 3,
   "metadata": {},
   "outputs": [
    {
     "data": {
      "text/plain": [
       "array([27, 97, 89, 61, 13, 13, 27, 18, 94, 72])"
      ]
     },
     "execution_count": 3,
     "metadata": {},
     "output_type": "execute_result"
    }
   ],
   "source": [
    "np.random.randint(0, 100, 10)"
   ]
  },
  {
   "cell_type": "markdown",
   "metadata": {},
   "source": [
    "Different distribution patterns are used depending on the function called. Eg random.rand returns a uniform distribution (default over 0 to 1), while random.randn returns a Gaussian or normal distibution."
   ]
  },
  {
   "cell_type": "code",
   "execution_count": 4,
   "metadata": {},
   "outputs": [
    {
     "data": {
      "image/png": "[encoded data removed]",
      "text/plain": [
       "<matplotlib.figure.Figure at 0x20f24157da0>"
      ]
     },
     "metadata": {},
     "output_type": "display_data"
    }
   ],
   "source": [
    "rndn = np.random.randn(10000)\n",
    "rnd = np.random.rand(10000)\n",
    "\n",
    "\n",
    "bins = np.linspace(-4, 4, 100)\n",
    "\n",
    "plt.hist(rndn, bins, alpha=0.5, label='randn (Gaussian)')\n",
    "plt.hist(rnd, bins, alpha=0.5, label='rand (Uniform)')\n",
    "plt.legend(loc='right')\n",
    "plt.show()"
   ]
  },
  {
   "cell_type": "markdown",
   "metadata": {},
   "source": [
    "Other functions:\n",
    "- sample (returns a random floating number within the range 0 to 1)\n",
    "- choice (returns a random sample from the inputted array. probabilities can be added to each entry in array)\n",
    "- bytes (returns a defined number of random bytes)"
   ]
  },
  {
   "cell_type": "markdown",
   "metadata": {},
   "source": [
    "### Permutations"
   ]
  },
  {
   "cell_type": "markdown",
   "metadata": {},
   "source": [
    "There are 2 permutations functions\n",
    "- shuffle\n",
    "- permuation"
   ]
  },
  {
   "cell_type": "markdown",
   "metadata": {},
   "source": [
    "Both shuffle and permuation alter the sequence of an array. However the main difference between the two is that permuation will make a copy of the array and shuffle the elements randomly. However shuffle alters the contents of the array.\n",
    "This can be seen in the example below."
   ]
  },
  {
   "cell_type": "code",
   "execution_count": 5,
   "metadata": {},
   "outputs": [
    {
     "data": {
      "text/plain": [
       "array([ 0,  1,  2,  3,  4,  5,  6,  7,  8,  9, 10, 11, 12, 13, 14, 15, 16,\n",
       "       17, 18, 19, 20, 21, 22, 23, 24, 25, 26, 27, 28, 29, 30, 31, 32, 33,\n",
       "       34, 35, 36, 37, 38, 39, 40, 41, 42, 43, 44, 45, 46, 47, 48, 49, 50,\n",
       "       51, 52, 53, 54, 55, 56, 57, 58, 59, 60, 61, 62, 63, 64, 65, 66, 67,\n",
       "       68, 69, 70, 71, 72, 73, 74, 75, 76, 77, 78, 79, 80, 81, 82, 83, 84,\n",
       "       85, 86, 87, 88, 89, 90, 91, 92, 93, 94, 95, 96, 97, 98, 99])"
      ]
     },
     "execution_count": 5,
     "metadata": {},
     "output_type": "execute_result"
    }
   ],
   "source": [
    "arr = np.arange(100)\n",
    "# Defining an array called 'arr' with values from 0 to 99 inclusive.\n",
    "arr"
   ]
  },
  {
   "cell_type": "code",
   "execution_count": 6,
   "metadata": {},
   "outputs": [
    {
     "data": {
      "text/plain": [
       "array([87, 24, 63,  3, 47, 99, 17, 70, 75, 30, 14, 37, 36, 83, 16, 98, 35,\n",
       "       72, 78, 79, 44, 52, 28, 50, 92, 97, 41,  2, 77, 20, 32, 31, 54, 10,\n",
       "       58, 49, 65, 25, 22,  4, 80,  0, 59, 61, 96, 89, 56, 18, 48, 71, 93,\n",
       "       12,  8, 34, 90, 81, 45, 73, 69, 27,  1, 94, 39, 40, 11, 62,  9, 53,\n",
       "       55, 86, 42, 82, 60, 57, 66, 85,  5, 43, 15, 64,  7, 67, 95, 46, 88,\n",
       "       68, 38, 74, 84, 91, 21, 29,  6, 19, 26, 13, 76, 51, 33, 23])"
      ]
     },
     "execution_count": 6,
     "metadata": {},
     "output_type": "execute_result"
    }
   ],
   "source": [
    "np.random.permutation(arr)\n",
    "# running the permutation function on the arrary shuffles the contents and outputs the values."
   ]
  },
  {
   "cell_type": "code",
   "execution_count": 7,
   "metadata": {},
   "outputs": [
    {
     "data": {
      "text/plain": [
       "array([ 0,  1,  2,  3,  4,  5,  6,  7,  8,  9, 10, 11, 12, 13, 14, 15, 16,\n",
       "       17, 18, 19, 20, 21, 22, 23, 24, 25, 26, 27, 28, 29, 30, 31, 32, 33,\n",
       "       34, 35, 36, 37, 38, 39, 40, 41, 42, 43, 44, 45, 46, 47, 48, 49, 50,\n",
       "       51, 52, 53, 54, 55, 56, 57, 58, 59, 60, 61, 62, 63, 64, 65, 66, 67,\n",
       "       68, 69, 70, 71, 72, 73, 74, 75, 76, 77, 78, 79, 80, 81, 82, 83, 84,\n",
       "       85, 86, 87, 88, 89, 90, 91, 92, 93, 94, 95, 96, 97, 98, 99])"
      ]
     },
     "execution_count": 7,
     "metadata": {},
     "output_type": "execute_result"
    }
   ],
   "source": [
    "arr\n",
    "# However the orginal array contents are left in their original sequence."
   ]
  },
  {
   "cell_type": "code",
   "execution_count": 8,
   "metadata": {},
   "outputs": [
    {
     "data": {
      "text/plain": [
       "array([96, 38, 32, 17, 86, 42, 82, 78, 65, 22, 12, 93, 61,  7,  3, 74, 66,\n",
       "       91, 39, 28, 54, 69, 62, 64, 46, 97, 85, 25, 36, 49, 71, 88, 95, 83,\n",
       "       41, 84, 57, 18,  9, 92, 30, 51, 31, 10, 45,  1, 16, 13, 75, 55, 19,\n",
       "       63,  4, 58, 15, 44, 90, 67, 43, 52,  0, 37,  8, 81, 24, 59, 20, 73,\n",
       "       48, 94, 29, 98, 68, 77, 80, 79, 26, 76, 56, 11,  2, 72, 21, 33, 23,\n",
       "        6, 60, 40, 14, 27, 34,  5, 53, 35, 47, 87, 89, 70, 50, 99])"
      ]
     },
     "execution_count": 8,
     "metadata": {},
     "output_type": "execute_result"
    }
   ],
   "source": [
    "np.random.shuffle(arr)\n",
    "arr"
   ]
  },
  {
   "cell_type": "markdown",
   "metadata": {},
   "source": [
    "The array has now had the sequence of its content altered. "
   ]
  },
  {
   "cell_type": "markdown",
   "metadata": {},
   "source": [
    "## 3. Explain the use and purpose of at least five “Distributions” functions.\n",
    "\n",
    "A probability distribution is a functions in mathematics that can provide the probability of occurence of different outcomes. It describes how the variables are distributed within its defined ranges. Within the numpy package there are 35 different distributions that can be called."
   ]
  },
  {
   "cell_type": "markdown",
   "metadata": {},
   "source": [
    "### Gaussian or Normal Distribution\n",
    "\n",
    "This distribution is one of the most important because it matches many natural phenomema such as people's height, errors in measurement, financial exchange rates, etc.\n",
    "68.2% of values are within 1 standard deviation, while 95% are within 2 and 99.7 within 3. This can be seen in the chart below.\n",
    "\n",
    "![Image of Gaussian Distribution](https://upload.wikimedia.org/wikipedia/commons/thumb/a/a9/Empirical_Rule.PNG/350px-Empirical_Rule.PNG)\n",
    "\n",
    "The Gaussian distribution in numpy is called using the random.normal function, where the mean and the standard deviation is defined along with the number of samples. \n",
    "\n",
    "In the plot below we have defined 3 different distributions centered on 0, 10 and 25 with standard deviations (or sigmas) of 1, 2 and 4 respectively. This illustrates the effect of the standard deviation setting on the shape of the curve. The higher the number, the more spread out the curve becomes."
   ]
  },
  {
   "cell_type": "code",
   "execution_count": 9,
   "metadata": {},
   "outputs": [
    {
     "data": {
      "image/png": "[encoded data removed]",
      "text/plain": [
       "<matplotlib.figure.Figure at 0x20f244e5be0>"
      ]
     },
     "metadata": {},
     "output_type": "display_data"
    }
   ],
   "source": [
    "n1 = np.random.normal(0,1,100000)\n",
    "n2 = np.random.normal(10,2,100000)\n",
    "n3 = np.random.normal(25,4,100000)\n",
    "\n",
    "\n",
    "bins2 = np.linspace(-5, 35, 300)\n",
    "\n",
    "plt.hist(n1, bins2, alpha=0.5, label='std = 1')\n",
    "plt.hist(n2, bins2, alpha=0.5, label='std = 2')\n",
    "plt.hist(n3, bins2, alpha=0.3, label='std = 4')\n",
    "plt.legend(loc='right')\n",
    "plt.show()"
   ]
  },
  {
   "cell_type": "markdown",
   "metadata": {},
   "source": [
    "### Log Normal Distribution\n",
    "\n",
    "The log normal distribution is a continuous distribution in which the logarithm of a variable has a normal distribution. Where the Gaussian distribution is symmetrical, the log normal is not. The log normal distribution can be used in financial investments when analysing stock prices. Gaussian distributions can have a negative number so can't be used as stock prices can't fall below 0 so a lognormal distribution can be used to decribe them [1]. \n",
    "\n",
    "In the example below we see that all values are not less than 0. The close to the sigma or standard deviation goes to 0 the more it resembles a normal Gaussian distribution."
   ]
  },
  {
   "cell_type": "code",
   "execution_count": 10,
   "metadata": {
    "collapsed": true
   },
   "outputs": [],
   "source": [
    "ln1 = np.random.lognormal(3,0.5,10000)\n",
    "ln2 = np.random.lognormal(3,1,10000)\n",
    "ln3 = np.random.lognormal(3,2,10000)"
   ]
  },
  {
   "cell_type": "code",
   "execution_count": 11,
   "metadata": {},
   "outputs": [
    {
     "data": {
      "image/png": "[encoded data removed]",
      "text/plain": [
       "<matplotlib.figure.Figure at 0x20f24aa8eb8>"
      ]
     },
     "metadata": {},
     "output_type": "display_data"
    }
   ],
   "source": [
    "bins3 = np.linspace(-5, 100, 300)\n",
    "plt.hist(ln1, bins3, alpha=0.5, label='sigma = 0.5')\n",
    "plt.hist(ln2, bins3, alpha=0.5, label='sigma = 1')\n",
    "plt.hist(ln3, bins3, alpha=0.4, label='sigma = 2')\n",
    "plt.axis('tight')\n",
    "plt.legend(loc='right')\n",
    "plt.show()"
   ]
  },
  {
   "cell_type": "markdown",
   "metadata": {},
   "source": [
    "The follow plot highlights the differences between Gaussian and Log Normal distribution when the same values are applied to both functions. Here we can see the symmetry of the Gaussian distribution and the fact that no values are below 0 for the log normal."
   ]
  },
  {
   "cell_type": "code",
   "execution_count": 38,
   "metadata": {},
   "outputs": [
    {
     "data": {
      "image/png": "[encoded data removed]",
      "text/plain": [
       "<matplotlib.figure.Figure at 0x20f24a26a20>"
      ]
     },
     "metadata": {},
     "output_type": "display_data"
    }
   ],
   "source": [
    "ln4 = np.random.lognormal(1,1,10000)\n",
    "n4 = np.random.normal(1,1,10000)\n",
    "\n",
    "bins3 = np.linspace(-5, 20, 300)\n",
    "plt.hist(ln4, bins3, alpha=0.5, label='Log Normal')\n",
    "plt.hist(n4, bins3, alpha=0.5, label='Gaussian/Normal')\n",
    "plt.axis('tight')\n",
    "plt.legend(loc='right')\n",
    "plt.show()"
   ]
  },
  {
   "cell_type": "markdown",
   "metadata": {},
   "source": [
    "### Poisson Distribution\n",
    "\n",
    "This distribution expresses the probability of a given number of events occurring in a fixed interval if these events occur with a known constant rate and independently of the time since the last event. This could be used to decribe the behavior of phone calls into a call centre, number of meteor strikes in a year etc [2]. One of the main difference between this and the normal distribution is that the values here are discrete instead of continuous in the Gaussian distribution. This means the results will be whole numbers.\n",
    "\n",
    "When defining this in numpy, the parameter lambda is set. This defines the expectation of the intervals. The higher the number the more the Poisson distribution resembles a Normal distribution. This can be observed in the next plot where values of 1, 5 and 9 has been defined for lambda."
   ]
  },
  {
   "cell_type": "code",
   "execution_count": 108,
   "metadata": {},
   "outputs": [
    {
     "data": {
      "image/png": "[encoded data removed]",
      "text/plain": [
       "<matplotlib.figure.Figure at 0x20f28f12828>"
      ]
     },
     "metadata": {},
     "output_type": "display_data"
    }
   ],
   "source": [
    "ps1 = np.random.poisson(1, 10000)\n",
    "ps5 = np.random.poisson(5, 10000)\n",
    "ps9 = np.random.poisson(9, 10000)\n",
    "\n",
    "plt.hist(ps1, 50, alpha=0.9, label='Poisson: lamda=1')\n",
    "plt.hist(ps5, 50, alpha=0.5, label='Poisson: lamda=5')\n",
    "plt.hist(ps9, 50, alpha=0.5, label='Poisson: lamda=9')\n",
    "\n",
    "plt.legend(loc='right')\n",
    "plt.show()"
   ]
  },
  {
   "cell_type": "markdown",
   "metadata": {},
   "source": [
    "### Binomial Distribution\n",
    "\n",
    "This distribution expresses the probability of success in a discrete test (either a success or not) given a certain probability over a number of tests. \n",
    "\n",
    "An example is a coin toss. With a fair coin the possibility of either result is 50% or 0.5. \n",
    "Below is a plot of the result of tossing the coin 10 times and testing the results 1000 times. The number of times 5 heads comes up is the highest which is what we would expect with a probability of 50%. "
   ]
  },
  {
   "cell_type": "code",
   "execution_count": 228,
   "metadata": {},
   "outputs": [
    {
     "data": {
      "image/png": "[encoded data removed]",
      "text/plain": [
       "<matplotlib.figure.Figure at 0x20f27de4cc0>"
      ]
     },
     "metadata": {},
     "output_type": "display_data"
    },
    {
     "name": "stdout",
     "output_type": "stream",
     "text": [
      "The probability of getting 0 heads during the test is  0.1 %\n",
      "The probability of getting 1 head during the test is  0.5 %\n",
      "The probability of getting 2 heads during the test is  4.5 %\n",
      "The probability of getting 3 heads during the test is  11.4 %\n",
      "The probability of getting 4 heads during the test is  20.9 %\n",
      "The probability of getting 5 heads during the test is  23.4 %\n",
      "The probability of getting 6 heads during the test is  21.9 %\n",
      "The probability of getting 7 heads during the test is  11.7 %\n",
      "The probability of getting 8 heads during the test is  4.8 %\n",
      "The probability of getting 9 heads during the test is  0.6 %\n",
      "The probability of getting 10 heads during the test is  0.2 %\n"
     ]
    }
   ],
   "source": [
    "bn = np.random.binomial(10, .5, 1000)\n",
    "plt.hist(bn, 50, alpha=0.5, label='Coin Toss Test')\n",
    "plt.legend(loc='right')\n",
    "plt.show()\n",
    "print('The probability of getting 0 heads during the test is ', 100*(sum((bn) == 0)/1000), '%')\n",
    "print('The probability of getting 1 head during the test is ', 100*(sum((bn) == 1)/1000), '%')\n",
    "print('The probability of getting 2 heads during the test is ', 100*(sum((bn) == 2)/1000), '%')\n",
    "print('The probability of getting 3 heads during the test is ', 100*(sum((bn) == 3)/1000), '%')\n",
    "print('The probability of getting 4 heads during the test is ', 100*(sum((bn) == 4)/1000), '%')\n",
    "print('The probability of getting 5 heads during the test is ', 100*(sum((bn) == 5)/1000), '%')\n",
    "print('The probability of getting 6 heads during the test is ', 100*(sum((bn) == 6)/1000), '%')\n",
    "print('The probability of getting 7 heads during the test is ', 100*(sum((bn) == 7)/1000), '%')\n",
    "print('The probability of getting 8 heads during the test is ', 100*(sum((bn) == 8)/1000), '%')\n",
    "print('The probability of getting 9 heads during the test is ', 100*(sum((bn) == 9)/1000), '%')\n",
    "print('The probability of getting 10 heads during the test is ', 100*(sum((bn) == 10)/1000), '%')"
   ]
  },
  {
   "cell_type": "markdown",
   "metadata": {},
   "source": [
    "We can plot the distributions when different levels of probability are used. It is useful to understand the effect of probability on the results outputted. The following plot shows three different probabilities of 10%, 50% and 90%.\n",
    "The interesting thing to note here is the distribution of results is very narrow when the probabilty is either very high or very low. The values when the probability is 50% is much more spread out."
   ]
  },
  {
   "cell_type": "code",
   "execution_count": 177,
   "metadata": {},
   "outputs": [
    {
     "data": {
      "image/png": "[encoded data removed]",
      "text/plain": [
       "<matplotlib.figure.Figure at 0x20f247ad8d0>"
      ]
     },
     "metadata": {},
     "output_type": "display_data"
    }
   ],
   "source": [
    "bn1 = np.random.binomial(100, .1, 1000)\n",
    "bn2 = np.random.binomial(100, .5, 1000)\n",
    "bn3 = np.random.binomial(100, .9, 1000)\n",
    "plt.hist(bn1, 50, alpha=0.5, label='Probability: 20%')\n",
    "plt.hist(bn2, 50, alpha=0.5, label='Probability: 50%')\n",
    "plt.hist(bn3, 50, alpha=0.5, label='Probability: 90%')\n",
    "plt.legend(loc='right')\n",
    "plt.show()\n"
   ]
  },
  {
   "cell_type": "markdown",
   "metadata": {},
   "source": [
    " ### Gumbel Distribution\n",
    "\n",
    "The Gumbel or the Smallest Extreme Value (SEV) distribution expresses the probability distribution of extreme events and is used to model the distribution of the maximum (or the minimum) of a number of samples of various distributions [3]. This has applications in predicting extreme events like earthquake, floods etc. Like the Gaussian distribution, Gumbel is a continuous probability distribution. Unlike Gaussian, Gumbel is asymmetrical and skewed on the left.\n",
    "\n",
    "The two distributions are plotted below."
   ]
  },
  {
   "cell_type": "code",
   "execution_count": 232,
   "metadata": {},
   "outputs": [
    {
     "data": {
      "image/png": "[encoded data removed]",
      "text/plain": [
       "<matplotlib.figure.Figure at 0x20f28f50828>"
      ]
     },
     "metadata": {},
     "output_type": "display_data"
    }
   ],
   "source": [
    "n6 = np.random.normal(0,1,10000)\n",
    "gm = np.random.gumbel(0,1,10000)\n",
    "\n",
    "plt.hist(n6, 300, alpha=0.5, label='Normal')\n",
    "plt.hist(gm, 300, alpha=0.5, label='Gumbel')\n",
    "plt.axis('tight')\n",
    "plt.legend(loc='right')\n",
    "plt.show()"
   ]
  },
  {
   "cell_type": "markdown",
   "metadata": {},
   "source": [
    "In numpy, the Gumbel distribution is set using 3 parameters, the location or median, the scale and the number of samples. Changing the scale alters the shape of the distribution. The higher the number the flatter the distribution over a larger range."
   ]
  },
  {
   "cell_type": "code",
   "execution_count": 227,
   "metadata": {},
   "outputs": [
    {
     "data": {
      "image/png": "[encoded data removed]",
      "text/plain": [
       "<matplotlib.figure.Figure at 0x20f27e2a438>"
      ]
     },
     "metadata": {},
     "output_type": "display_data"
    }
   ],
   "source": [
    "gm1 = np.random.gumbel(0, 1, 10000)\n",
    "gm2 = np.random.gumbel(10, 2, 10000)\n",
    "gm3 = np.random.gumbel(25, 4, 10000)\n",
    "\n",
    "\n",
    "bins5 = np.linspace(-5, 40, 300)\n",
    "plt.hist(gm1, bins5, alpha=0.5, label='Gumbel:loc: 0,  scale:1')\n",
    "plt.hist(gm2, bins5, alpha=0.5, label='Gumbel:loc:10, scale:2')\n",
    "plt.hist(gm3, bins5, alpha=0.4, label='Gumbel:loc:25, scale:3')\n",
    "plt.axis('tight')\n",
    "plt.legend(loc='right')\n",
    "plt.show()"
   ]
  },
  {
   "cell_type": "markdown",
   "metadata": {},
   "source": [
    "## 4. Explain the use of seeds in generating pseudorandom numbers."
   ]
  },
  {
   "cell_type": "markdown",
   "metadata": {
    "collapsed": true
   },
   "source": [
    "The seed is just a number that can be used to initialise the pseudorandom number generator. In numpy a Mersenne Twister pseudorandom number generator is utilised. When a seed is explicity defined, the same results will be generated repeatedly. \n",
    "\n",
    "In the example below we first generate 4 random numbers 5 times. Each time the result is different."
   ]
  },
  {
   "cell_type": "code",
   "execution_count": 266,
   "metadata": {},
   "outputs": [
    {
     "name": "stdout",
     "output_type": "stream",
     "text": [
      "y1 = [ 0.66676672  0.67063787  0.21038256  0.1289263 ]\n",
      "y2 = [ 0.31542835  0.36371077  0.57019677  0.43860151]\n",
      "y3 = [ 0.98837384  0.10204481  0.20887676  0.16130952]\n",
      "y4 = [ 0.65310833  0.2532916   0.46631077  0.24442559]\n",
      "y5 = [ 0.15896958  0.11037514  0.65632959  0.13818295]\n"
     ]
    }
   ],
   "source": [
    "y1 = np.random.rand(4)\n",
    "y2 = np.random.rand(4)\n",
    "y3 = np.random.rand(4)\n",
    "y4 = np.random.rand(4)\n",
    "y5 = np.random.rand(4)\n",
    "\n",
    "print('y1 =', y1)\n",
    "print('y2 =', y2)\n",
    "print('y3 =', y3)\n",
    "print('y4 =', y4)\n",
    "print('y5 =', y5)"
   ]
  },
  {
   "cell_type": "markdown",
   "metadata": {},
   "source": [
    "However if we set the random.seed to a fixed value, 0 in this case, the results of the same function will all be identical."
   ]
  },
  {
   "cell_type": "code",
   "execution_count": 274,
   "metadata": {},
   "outputs": [
    {
     "name": "stdout",
     "output_type": "stream",
     "text": [
      "x1 = [ 0.5488135   0.71518937  0.60276338  0.54488318]\n",
      "x2 = [ 0.5488135   0.71518937  0.60276338  0.54488318]\n",
      "x3 = [ 0.5488135   0.71518937  0.60276338  0.54488318]\n",
      "x4 = [ 0.5488135   0.71518937  0.60276338  0.54488318]\n",
      "x5 = [ 0.5488135   0.71518937  0.60276338  0.54488318]\n"
     ]
    }
   ],
   "source": [
    "np.random.seed(0)\n",
    "x1 = np.random.rand(4)\n",
    "np.random.seed(0)\n",
    "x2 = np.random.rand(4)\n",
    "np.random.seed(0)\n",
    "x3 = np.random.rand(4)\n",
    "np.random.seed(0)\n",
    "x4 = np.random.rand(4)\n",
    "np.random.seed(0)\n",
    "x5 = np.random.rand(4)\n",
    "\n",
    "print('x1 =', x1)\n",
    "print('x2 =', x2)\n",
    "print('x3 =', x3)\n",
    "print('x4 =', x4)\n",
    "print('x5 =', x5)\n"
   ]
  },
  {
   "cell_type": "markdown",
   "metadata": {},
   "source": [
    "## References\n",
    "\n",
    "[1] - https://www.investopedia.com/articles/investing/102014/lognormal-and-normal-distribution.asp\n",
    "\n",
    "[2] - https://en.wikipedia.org/wiki/Poisson_distribution#cite_note-haight-1\n",
    "\n",
    "[3] - https://simple.wikipedia.org/wiki/Gumbel_distribution"
   ]
  }
 ],
 "metadata": {
  "kernelspec": {
   "display_name": "Python 3",
   "language": "python",
   "name": "python3"
  },
  "language_info": {
   "codemirror_mode": {
    "name": "ipython",
    "version": 3
   },
   "file_extension": ".py",
   "mimetype": "text/x-python",
   "name": "python",
   "nbconvert_exporter": "python",
   "pygments_lexer": "ipython3",
   "version": "3.6.3"
  }
 },
 "nbformat": 4,
 "nbformat_minor": 2
}
