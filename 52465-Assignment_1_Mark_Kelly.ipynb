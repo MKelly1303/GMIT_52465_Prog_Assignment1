{
 "cells": [
  {
   "cell_type": "markdown",
   "metadata": {},
   "source": [
    "# 52465 Programming for Data Analysis - Assignment 1\n",
    "## Mark Kelly\n",
    "\n",
    "\n",
    "### Problem Statement\n",
    "The following assignment concerns the numpy.random package in Python. You are\n",
    "required to create a Jupyter notebook explaining the use of the package, including\n",
    "detailed explanations of at least five of the distributions provided for in the package.\n",
    "There are four distinct tasks to be carried out in your Jupyter notebook."
   ]
  },
  {
   "cell_type": "markdown",
   "metadata": {},
   "source": [
    "## 1. Explain the overall purpose of the package."
   ]
  },
  {
   "cell_type": "markdown",
   "metadata": {},
   "source": [
    "The basic purpose of the numpy.random package is for the generation of random numbers within Python. \n",
    "It is broken up into 4 main area\n",
    "- Simple Random Data\n",
    "- Permutations\n",
    "- Distibutions\n",
    "- Random Generators\n",
    "\n",
    "The numpy.random package is similar to the python random package but allows more functionality like building whole arrays and extra probability density functions. This information can then be used when testing, simulating or running some operation or calculation."
   ]
  },
  {
   "cell_type": "markdown",
   "metadata": {},
   "source": [
    "## 2. Explain the use of the “Simple random data” and “Permutations” functions.\n"
   ]
  },
  {
   "cell_type": "markdown",
   "metadata": {},
   "source": [
    "### Simple random data\n",
    "The Simple Random Data function is used to create a randomly generated numbers as defined by the user. This can be in the form of arrays or just a set of numbers."
   ]
  },
  {
   "cell_type": "code",
   "execution_count": 2,
   "metadata": {
    "collapsed": true
   },
   "outputs": [],
   "source": [
    "import numpy as np\n",
    "import matplotlib.pyplot as plt\n",
    "%matplotlib inline"
   ]
  },
  {
   "cell_type": "markdown",
   "metadata": {},
   "source": [
    "In the example below, a randomly generated 4x2 array is shown where each value will be below 1."
   ]
  },
  {
   "cell_type": "code",
   "execution_count": 3,
   "metadata": {},
   "outputs": [
    {
     "data": {
      "text/plain": [
       "array([[ 0.90459925,  0.97479459],\n",
       "       [ 0.86866261,  0.2714066 ],\n",
       "       [ 0.49025596,  0.46685649],\n",
       "       [ 0.38627517,  0.36413006]])"
      ]
     },
     "execution_count": 3,
     "metadata": {},
     "output_type": "execute_result"
    }
   ],
   "source": [
    "np.random.rand(4, 2)\n"
   ]
  },
  {
   "cell_type": "markdown",
   "metadata": {},
   "source": [
    "Integers can also be generated. The example below is selecting 10 integers between 0 (inclusive) and 100 (exclusive)."
   ]
  },
  {
   "cell_type": "code",
   "execution_count": 4,
   "metadata": {},
   "outputs": [
    {
     "data": {
      "text/plain": [
       "array([72, 98, 94, 59, 78, 32, 29, 64, 87, 92])"
      ]
     },
     "execution_count": 4,
     "metadata": {},
     "output_type": "execute_result"
    }
   ],
   "source": [
    "np.random.randint(0, 100, 10)"
   ]
  },
  {
   "cell_type": "markdown",
   "metadata": {},
   "source": [
    "Different distribution patterns are used depending on the function called. Eg random.rand returns a uniform distribution (default over 0 to 1), while random.randn returns a Gaussian or normal distibution."
   ]
  },
  {
   "cell_type": "code",
   "execution_count": 5,
   "metadata": {},
   "outputs": [
    {
     "data": {
      "image/png": "[encoded data removed]",
      "text/plain": [
       "<matplotlib.figure.Figure at 0x136d05b44a8>"
      ]
     },
     "metadata": {},
     "output_type": "display_data"
    }
   ],
   "source": [
    "rndn = np.random.randn(10000)\n",
    "rnd = np.random.rand(10000)\n",
    "\n",
    "\n",
    "bins = np.linspace(-4, 4, 100)\n",
    "\n",
    "plt.hist(rndn, bins, alpha=0.5, label='randn (Gaussian)')\n",
    "plt.hist(rnd, bins, alpha=0.5, label='rand (Uniform)')\n",
    "plt.legend(loc='right')\n",
    "plt.show()"
   ]
  },
  {
   "cell_type": "markdown",
   "metadata": {},
   "source": [
    "Other functions:\n",
    "- sample (returns a random floating number within the range 0 to 1)\n",
    "- choice (returns a random sample from the inputted array. probabilities can be added to each entry in array)\n",
    "- bytes (returns a defined number of random bytes)"
   ]
  },
  {
   "cell_type": "markdown",
   "metadata": {},
   "source": [
    "### Permutations"
   ]
  },
  {
   "cell_type": "markdown",
   "metadata": {},
   "source": [
    "There are 2 permutations functions\n",
    "- shuffle\n",
    "- permuation"
   ]
  },
  {
   "cell_type": "markdown",
   "metadata": {},
   "source": [
    "Both shuffle and permuation alter the sequence of an array. However the main difference between the two is that permuation will make a copy of the array and shuffle the elements randomly. However shuffle alters the contents of the array.\n",
    "This can be seen in the example below."
   ]
  },
  {
   "cell_type": "code",
   "execution_count": 6,
   "metadata": {},
   "outputs": [
    {
     "data": {
      "text/plain": [
       "array([ 0,  1,  2,  3,  4,  5,  6,  7,  8,  9, 10, 11, 12, 13, 14, 15, 16,\n",
       "       17, 18, 19, 20, 21, 22, 23, 24, 25, 26, 27, 28, 29, 30, 31, 32, 33,\n",
       "       34, 35, 36, 37, 38, 39, 40, 41, 42, 43, 44, 45, 46, 47, 48, 49, 50,\n",
       "       51, 52, 53, 54, 55, 56, 57, 58, 59, 60, 61, 62, 63, 64, 65, 66, 67,\n",
       "       68, 69, 70, 71, 72, 73, 74, 75, 76, 77, 78, 79, 80, 81, 82, 83, 84,\n",
       "       85, 86, 87, 88, 89, 90, 91, 92, 93, 94, 95, 96, 97, 98, 99])"
      ]
     },
     "execution_count": 6,
     "metadata": {},
     "output_type": "execute_result"
    }
   ],
   "source": [
    "arr = np.arange(100)\n",
    "# Defining an array called 'arr' with values from 0 to 99 inclusive.\n",
    "arr"
   ]
  },
  {
   "cell_type": "code",
   "execution_count": 7,
   "metadata": {},
   "outputs": [
    {
     "data": {
      "text/plain": [
       "array([22, 66, 52, 65, 90, 23, 11, 34, 53, 76, 89, 69, 32, 99, 57, 75, 70,\n",
       "       73, 47, 58, 97, 41, 12, 35, 87, 17, 26, 14, 91, 27, 20, 24, 83, 46,\n",
       "       45, 60, 38, 31, 64, 56, 95, 72, 93, 78, 42, 37, 28, 84, 86,  1,  9,\n",
       "       50, 80, 49, 71,  6,  0,  3, 16, 77, 30, 96, 29,  7, 67, 85, 61, 82,\n",
       "       21, 33, 92, 10, 63, 18, 68,  2,  8, 19, 13, 79, 55, 51, 94, 36, 54,\n",
       "       40, 98,  5, 15, 44, 88, 62, 48, 74, 39,  4, 43, 59, 25, 81])"
      ]
     },
     "execution_count": 7,
     "metadata": {},
     "output_type": "execute_result"
    }
   ],
   "source": [
    "np.random.permutation(arr)\n",
    "# running the permutation function on the arrary shuffles the contents and outputs the values."
   ]
  },
  {
   "cell_type": "code",
   "execution_count": 8,
   "metadata": {},
   "outputs": [
    {
     "data": {
      "text/plain": [
       "array([ 0,  1,  2,  3,  4,  5,  6,  7,  8,  9, 10, 11, 12, 13, 14, 15, 16,\n",
       "       17, 18, 19, 20, 21, 22, 23, 24, 25, 26, 27, 28, 29, 30, 31, 32, 33,\n",
       "       34, 35, 36, 37, 38, 39, 40, 41, 42, 43, 44, 45, 46, 47, 48, 49, 50,\n",
       "       51, 52, 53, 54, 55, 56, 57, 58, 59, 60, 61, 62, 63, 64, 65, 66, 67,\n",
       "       68, 69, 70, 71, 72, 73, 74, 75, 76, 77, 78, 79, 80, 81, 82, 83, 84,\n",
       "       85, 86, 87, 88, 89, 90, 91, 92, 93, 94, 95, 96, 97, 98, 99])"
      ]
     },
     "execution_count": 8,
     "metadata": {},
     "output_type": "execute_result"
    }
   ],
   "source": [
    "arr\n",
    "# However the orginal array contents are left in their original sequence."
   ]
  },
  {
   "cell_type": "code",
   "execution_count": 9,
   "metadata": {},
   "outputs": [
    {
     "data": {
      "text/plain": [
       "array([ 4, 94,  6,  7, 71, 84, 98, 52, 36, 72, 76, 96,  8, 41, 50, 64, 14,\n",
       "       87, 63, 67,  0, 23, 95, 69, 10, 12, 49, 91, 54, 34, 90, 66, 19, 82,\n",
       "       83, 92, 38, 78, 55, 75, 61, 35, 46, 70, 27, 40, 48, 37, 43, 28, 99,\n",
       "       73, 58, 93, 33, 86, 68, 88, 79, 81, 77, 18, 47, 80, 51, 13, 22, 85,\n",
       "       32, 74, 21, 24, 60, 97, 11, 89, 26,  9, 20, 42, 45, 53, 16,  1, 29,\n",
       "       25, 39, 65, 31, 17, 30, 56,  3, 59, 57, 15, 62,  5, 44,  2])"
      ]
     },
     "execution_count": 9,
     "metadata": {},
     "output_type": "execute_result"
    }
   ],
   "source": [
    "np.random.shuffle(arr)\n",
    "arr"
   ]
  },
  {
   "cell_type": "markdown",
   "metadata": {},
   "source": [
    "The array has now had the sequence of its content altered. "
   ]
  },
  {
   "cell_type": "markdown",
   "metadata": {},
   "source": [
    "## 3. Explain the use and purpose of at least five “Distributions” functions.\n",
    "\n",
    "A probability distribution is a functions in mathematics that can provide the probability of occurence of different outcomes. It describes how the variables are distributed within its defined ranges. Within the numpy package there are 35 different distributions that can be called."
   ]
  },
  {
   "cell_type": "markdown",
   "metadata": {},
   "source": [
    "### Gaussian or Normal Distribution\n",
    "\n",
    "This distribution is one of the most important because it matches many natural phenomema such as people's height, errors in measurement, financial exchange rates, etc.\n",
    "68.2% of values are within 1 standard deviation, while 95% are within 2 and 99.7 within 3. This can be seen in the chart below.\n",
    "\n",
    "![Image of Gaussian Distribution](https://upload.wikimedia.org/wikipedia/commons/thumb/a/a9/Empirical_Rule.PNG/350px-Empirical_Rule.PNG)\n",
    "\n",
    "The Gaussian distribution in numpy is called using the random.normal function, where the mean and the standard deviation is defined along with the number of samples. \n",
    "\n",
    "In the plot below we have defined 3 different distributions centered on 0, 10 and 25 with standard deviations (or sigmas) of 1, 2 and 4 respectively. This illustrates the effect of the standard deviation setting on the shape of the curve. The higher the number, the more spread out the curve becomes."
   ]
  },
  {
   "cell_type": "code",
   "execution_count": 10,
   "metadata": {},
   "outputs": [
    {
     "data": {
      "image/png": "[encoded data removed]",
      "text/plain": [
       "<matplotlib.figure.Figure at 0x136d0b33860>"
      ]
     },
     "metadata": {},
     "output_type": "display_data"
    }
   ],
   "source": [
    "n1 = np.random.normal(0,1,100000)\n",
    "n2 = np.random.normal(10,2,100000)\n",
    "n3 = np.random.normal(25,4,100000)\n",
    "\n",
    "\n",
    "bins2 = np.linspace(-5, 35, 300)\n",
    "\n",
    "plt.hist(n1, bins2, alpha=0.5, label='std = 1')\n",
    "plt.hist(n2, bins2, alpha=0.5, label='std = 2')\n",
    "plt.hist(n3, bins2, alpha=0.3, label='std = 4')\n",
    "plt.legend(loc='right')\n",
    "plt.show()"
   ]
  },
  {
   "cell_type": "markdown",
   "metadata": {},
   "source": [
    "### Log Normal Distribution\n",
    "\n",
    "The log normal distribution is a continuous distribution in which the logarithm of a variable has a normal distribution. Where the Gaussian distribution is symmetrical, the log normal is not. The log normal distribution can be used in financial investments when analysing stock prices. Gaussian distributions can have a negative number so can't be used as stock prices can't fall below 0 so a lognormal distribution can be used to decribe them [1]. \n",
    "\n",
    "In the example below we see that all values are not less than 0. The close to the sigma or standard deviation goes to 0 the more it resembles a normal Gaussian distribution."
   ]
  },
  {
   "cell_type": "code",
   "execution_count": 109,
   "metadata": {},
   "outputs": [],
   "source": [
    "ln1 = np.random.lognormal(3,0.5,10000)\n",
    "ln2 = np.random.lognormal(3,1,10000)\n",
    "ln3 = np.random.lognormal(3,2,10000)"
   ]
  },
  {
   "cell_type": "code",
   "execution_count": 111,
   "metadata": {},
   "outputs": [
    {
     "data": {
      "image/png": "[encoded data removed]",
      "text/plain": [
       "<matplotlib.figure.Figure at 0x136d3821c18>"
      ]
     },
     "metadata": {},
     "output_type": "display_data"
    }
   ],
   "source": [
    "bins3 = np.linspace(-5, 100, 300)\n",
    "plt.hist(ln1, bins3, alpha=0.5, label='sigma = 0.5')\n",
    "plt.hist(ln2, bins3, alpha=0.5, label='sigma = 1')\n",
    "plt.hist(ln3, bins3, alpha=0.4, label='sigma = 2')\n",
    "plt.axis('tight')\n",
    "plt.legend(loc='right')\n",
    "plt.show()"
   ]
  },
  {
   "cell_type": "markdown",
   "metadata": {},
   "source": [
    "### Poisson Distribution\n",
    "\n",
    "This distribution decribes the "
   ]
  },
  {
   "cell_type": "code",
   "execution_count": 14,
   "metadata": {},
   "outputs": [
    {
     "data": {
      "text/plain": [
       "(array([   25.,   273.,   984.,  1974.,  2516.,  2114.,  1262.,   559.,\n",
       "          213.,    60.,    14.,     6.]),\n",
       " array([  1.,   3.,   5.,   7.,   9.,  11.,  13.,  15.,  17.,  19.,  21.,\n",
       "         23.,  25.]),\n",
       " <a list of 12 Patch objects>)"
      ]
     },
     "execution_count": 14,
     "metadata": {},
     "output_type": "execute_result"
    },
    {
     "data": {
      "image/png": "[encoded data removed]",
      "text/plain": [
       "<matplotlib.figure.Figure at 0x136d152f1d0>"
      ]
     },
     "metadata": {},
     "output_type": "display_data"
    }
   ],
   "source": [
    "ps = np.random.poisson(10, 10000)\n",
    "plt.hist(ps, 12)"
   ]
  },
  {
   "cell_type": "code",
   "execution_count": 13,
   "metadata": {},
   "outputs": [
    {
     "data": {
      "text/plain": [
       "(array([ 0.,  0.,  0.,  0.,  0.,  1.,  0.,  0.,  0.,  0.]),\n",
       " array([ 1.6978074,  1.7978074,  1.8978074,  1.9978074,  2.0978074,\n",
       "         2.1978074,  2.2978074,  2.3978074,  2.4978074,  2.5978074,\n",
       "         2.6978074]),\n",
       " <a list of 10 Patch objects>)"
      ]
     },
     "execution_count": 13,
     "metadata": {},
     "output_type": "execute_result"
    },
    {
     "data": {
      "image/png": "[encoded data removed]",
      "text/plain": [
       "<matplotlib.figure.Figure at 0x136d14fbfd0>"
      ]
     },
     "metadata": {},
     "output_type": "display_data"
    }
   ],
   "source": [
    "ex = np.random.exponential(1)\n",
    "plt.hist(ex)"
   ]
  },
  {
   "cell_type": "code",
   "execution_count": 15,
   "metadata": {},
   "outputs": [
    {
     "data": {
      "text/plain": [
       "(array([   2.,   21.,   41.,   73.,  104.,  104.,   98.,   94.,   99.,\n",
       "          88.,   59.,   45.,   45.,   35.,   22.,   21.,   13.,   15.,\n",
       "           7.,    0.,    4.,    3.,    1.,    2.,    2.,    0.,    0.,\n",
       "           0.,    1.,    1.]),\n",
       " array([-0.19270109, -0.1625947 , -0.13248831, -0.10238192, -0.07227553,\n",
       "        -0.04216913, -0.01206274,  0.01804365,  0.04815004,  0.07825643,\n",
       "         0.10836282,  0.13846921,  0.1685756 ,  0.198682  ,  0.22878839,\n",
       "         0.25889478,  0.28900117,  0.31910756,  0.34921395,  0.37932034,\n",
       "         0.40942673,  0.43953313,  0.46963952,  0.49974591,  0.5298523 ,\n",
       "         0.55995869,  0.59006508,  0.62017147,  0.65027786,  0.68038426,\n",
       "         0.71049065]),\n",
       " <a list of 30 Patch objects>)"
      ]
     },
     "execution_count": 15,
     "metadata": {},
     "output_type": "execute_result"
    },
    {
     "data": {
      "image/png": "[encoded data removed]",
      "text/plain": [
       "<matplotlib.figure.Figure at 0x136d2550940>"
      ]
     },
     "metadata": {},
     "output_type": "display_data"
    }
   ],
   "source": [
    "gm = np.random.gumbel(0, 0.1, 1000)\n",
    "plt.hist(gm, 30)"
   ]
  },
  {
   "cell_type": "markdown",
   "metadata": {},
   "source": [
    "## 4. Explain the use of seeds in generating pseudorandom numbers."
   ]
  },
  {
   "cell_type": "code",
   "execution_count": null,
   "metadata": {
    "collapsed": true
   },
   "outputs": [],
   "source": []
  },
  {
   "cell_type": "markdown",
   "metadata": {},
   "source": [
    "## References\n",
    "\n",
    "[1] - https://www.investopedia.com/articles/investing/102014/lognormal-and-normal-distribution.asp"
   ]
  },
  {
   "cell_type": "code",
   "execution_count": null,
   "metadata": {
    "collapsed": true
   },
   "outputs": [],
   "source": []
  }
 ],
 "metadata": {
  "kernelspec": {
   "display_name": "Python 3",
   "language": "python",
   "name": "python3"
  },
  "language_info": {
   "codemirror_mode": {
    "name": "ipython",
    "version": 3
   },
   "file_extension": ".py",
   "mimetype": "text/x-python",
   "name": "python",
   "nbconvert_exporter": "python",
   "pygments_lexer": "ipython3",
   "version": "3.6.3"
  }
 },
 "nbformat": 4,
 "nbformat_minor": 2
}
